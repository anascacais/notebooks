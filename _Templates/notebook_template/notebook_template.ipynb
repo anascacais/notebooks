{
 "cells": [
  {
   "cell_type": "markdown",
   "id": "1e2a027b",
   "metadata": {},
   "source": [
    "![scientisst-notebooks_top-banner](https://raw.githubusercontent.com/scientisst/notebooks/59632d3d477981a3b1cc12157e12bbdcdb45def8/_Resources/top-banner.png)"
   ]
  },
  {
   "cell_type": "markdown",
   "id": "6d482376",
   "metadata": {},
   "source": [
    "# NOTEBOOK GUIDELINES (please delete this cell)\n",
    "\n",
    "### General guidelines\n",
    "\n",
    "* The sections with an **asterisk (\\*)** are mandatory, but please remove the **(\\*)** when editing the Notebook\n",
    "\n",
    "* When creating a new Notebook, add a new directory within the respective chapter with the same name as the Notebook and inside create a Jupyter Notebook and a `_Resources` directory.\n",
    "\n",
    "* Try to add a caption (with source, if applicable) to every image (check the _Graphical Abstract_ for an example).\n",
    "\n",
    "* Try to use the _Objectives_, _Requirements_ and _Materials_ sections.\n",
    "\n",
    "* The remaining guidelines are specific to the Jupyter Notebook framework, so they might not behave excatly as expected when visualizing directly on GitHub. However, everything should work without major issues nonetheless!\n",
    "\n",
    "### Adding images\n",
    "\n",
    "To add **any** image (excluding top and bottom banners, already included), add them in the respective Notebook's `_Resources` directory and use a relative path. \n",
    "\n",
    "The **simplest way** is by using Markdown notation:\n",
    "\n",
    "```\n",
    "![biosppy](./_Resources/biosppy.png)\n",
    "\n",
    "_Simple image and caption._\n",
    "```\n",
    "![biosppy](./_Resources/biosppy.png)\n",
    "\n",
    "_Simple image and caption._\n",
    "\n",
    "***\n",
    "\n",
    "However, to have more control, you can use HTML to **center** the image and caption, choose its **size** and even add a label for **cross-references**:\n",
    "\n",
    "```\n",
    "<p align=\"center\">\n",
    "<a id=powering_circuit />\n",
    "<img src=\"./_Resources/TopView.png\" width=\"350\"/> \n",
    "</p>\n",
    "<p style=\"color:#484848;text-align:center\"> <i> Image and caption centered, with label for cross-reference. </i> </p>\n",
    "```\n",
    "\n",
    "<p align=\"center\">\n",
    "<a id=image-label />\n",
    "<img src=\"./_Resources/TopView.png\" width=\"500\"/> \n",
    "</p>\n",
    "<p style=\"color:#484848;text-align:center\"> <i> Image and caption centered, with label for cross-reference. </i> </p>\n",
    "\n",
    "***\n",
    "\n",
    "...as well as to place images side-by-side:\n",
    "\n",
    "\n",
    "```\n",
    "<table><tr>\n",
    "<td> <img src=\"./_Resources/TopView.png\" width=\"350\"/>  </td>\n",
    "<td> <img src=\"./_Resources/BottomView.png\" width=\"350\"/>  </td>\n",
    "</tr></table>\n",
    "<p style=\"color:#484848;text-align:center\"> <i> Images centered and side-by-side. </i> </p>\n",
    "```\n",
    "\n",
    "<table><tr>\n",
    "<td> <img src=\"./_Resources/TopView.png\" width=\"280\"/>  </td>\n",
    "<td> <img src=\"./_Resources/BottomView.png\" width=\"280\"/>  </td>\n",
    "</tr></table>\n",
    "<p style=\"color:#484848;text-align:center\"> <i> Images centered and side-by-side. </i> </p>\n",
    "\n",
    "\n",
    "<p style=\"color:#484848;text-align:center\"> <b> These two are the prefered methods for adding images. </b> </p>\n",
    "\n",
    "\n",
    "\n",
    "### Hyperlinks\n",
    "\n",
    "The simplest way to add an hyperlink is:\n",
    "\n",
    "```\n",
    "[Text that will show up](actual-hyperlink)\n",
    "```\n",
    "\n",
    "[Text that will show up](https://www.scientisst.com/)\n",
    "\n",
    "\n",
    "\n",
    "### Cross-references\n",
    "\n",
    "Cross-references allow you to point to an image, section, etc using some sort of a link. To do so, add a label (aka _id_) to the element you want to reference by embedding `<a id=label />` within the element's HTML code and reference it similarly to an hyperlink:\n",
    "\n",
    "```\n",
    "[Text to cross-reference](#image-label)\n",
    "```\n",
    "\n",
    "[Text to cross-reference](#image-label)\n",
    "\n",
    "\n",
    "### Coding guidelines\n",
    "\n",
    "To enable basic visualization tools troughout the whole notebook, include the following code in a `Code` cell:\n",
    "\n",
    "```python\n",
    "!pip install mpld3 >/dev/null 2>&1\n",
    "import mpld3\n",
    "```\n",
    "\n",
    "If using plots, preferably use the followin collor pallete (or derivates), which can be achieved with the following (simplified) code:\n",
    "\n",
    "```python\n",
    "color_palette=['#3C5A82', '#96C2D7', '#E0FAFA', '#EF6D4A', '#293140']  \n",
    "plt.plot(x, yi, label='yi',  color=color_palette[i])\n",
    "```\n",
    "\n",
    "<p align=\"center\">\n",
    "<a id=image-label />\n",
    "<img src=\"./_Resources/example_plot.png\" width=\"500\"/> \n",
    "</p>\n",
    "<p style=\"color:#484848;text-align:center\"> <i> Example plot showing the color palette. </i> </p>\n",
    "\n",
    "***\n",
    "\n",
    "Regarding visualization via tables, refer to the follwing code:\n",
    "```python\n",
    "import pandas as pd\n",
    "import csv\n",
    "\n",
    "data = pd.read_csv(path_to_data,  delimiter = ';')\n",
    "\n",
    "data\n",
    "data.style.set_table_styles([dict(selector=\"th\", props=[(\"font-size\", \"125%\"),(\"color\", color_palette[0]),\n",
    "                               (\"text-align\", \"center\")]), \n",
    "                             dict(selector=\"tr\", props=[\n",
    "                               (\"text-align\", \"center\")])])\n",
    "```\n",
    "\n",
    "\n",
    "### Highlighting\n",
    "\n",
    "> ⚠️ **WARNING:** Write here something the readers must be careful with.\n",
    "\n",
    "> 📋 **NOTE:** Write here a brief note for the readers.\n",
    "\n",
    "> 💡 **EXPLORE:** Write here something for the readers to explore outside of the notebook.\n",
    "\n",
    "> ❗ **DON'T FORGET:** Write here something important to remember.\n",
    "\n",
    "> ❓ **DID YOU KNOW?** Write here a curiosity.\n",
    "\n",
    "> ⚡ **TIP:** Write here a tip.\n",
    "\n",
    "\n",
    "### Exporting to PDF\n",
    "\n",
    "Unfortunately, by using relative links (which make it easier to download and share a single notebook directory with your students), disables the Jupyter Notebook builtin feature of Exporting as PDF. As such, once your notebook is finished, press `Ctr + P` and save as PDF. \n"
   ]
  },
  {
   "cell_type": "markdown",
   "id": "3cf183a2",
   "metadata": {},
   "source": [
    "# <span style=\"color:#484848;\"> ADD YOUR TITLE HERE (*) </span>"
   ]
  },
  {
   "cell_type": "markdown",
   "id": "36a4cefd",
   "metadata": {},
   "source": [
    "### <span style=\"color:#00aba1;\"> Keywords (*) </span>\n",
    "`keyword1`, `keyword2`, `keyword3`"
   ]
  },
  {
   "cell_type": "markdown",
   "id": "e09b7dc0",
   "metadata": {},
   "source": [
    "### <span style=\"color:#00aba1;\"> Notebook Info (*) </span>\n",
    "\n",
    "**Contributor(s):** Contributor1, Contributor2\n",
    "\n",
    "**Date of creation:** dd/mm/aa\n",
    "\n",
    "**Last update:** dd/mm/aa"
   ]
  },
  {
   "cell_type": "markdown",
   "id": "e00a3dd5",
   "metadata": {},
   "source": [
    "<p align=\"center\">\n",
    "<img src=\"./_Resources/biosppy.png\" width=\"900\"/> \n",
    "</p>\n",
    "<p style=\"color:#484848;text-align:center\"> <i> Caption to Graphical Abstract. </i> </p>"
   ]
  },
  {
   "cell_type": "markdown",
   "id": "043fa9be",
   "metadata": {},
   "source": [
    "### <span style=\"color:#00aba1;\"> Description / Objectives </span>\n",
    "In this cell you should succinctly explain the **purpose/motivation** of this notebook and/or give an **overview** of the content"
   ]
  },
  {
   "cell_type": "markdown",
   "id": "7f2ead9c",
   "metadata": {},
   "source": [
    "### <span style=\"color:#00aba1;\"> Requirements </span>\n",
    "If useful use this section to let your readers know what they should know to fully reach the goals. For example:\n",
    "\n",
    "* Basic knowledge of Python\n",
    "* Circuit analysis\n",
    "* ..."
   ]
  },
  {
   "cell_type": "markdown",
   "id": "14a7e588",
   "metadata": {},
   "source": [
    "### <span style=\"color:#00aba1;\"> Materials </span>\n",
    "If useful use this section to let your readers know what they need to possess in order to follow the notebook. For example:\n",
    "\n",
    "* 1 ScientISST Board\n",
    "* 1 ECG sensor\n",
    "* ..."
   ]
  },
  {
   "cell_type": "markdown",
   "id": "01d58803",
   "metadata": {},
   "source": [
    "***"
   ]
  },
  {
   "cell_type": "markdown",
   "id": "69307772",
   "metadata": {},
   "source": [
    "# <span style=\"color:#00aba1;\"> 1. Introduction </span>"
   ]
  },
  {
   "cell_type": "markdown",
   "id": "521fbb4a",
   "metadata": {},
   "source": [
    "_(Place your main contents here and below; they can be organized by sections.)_"
   ]
  },
  {
   "cell_type": "markdown",
   "id": "92b16b2b",
   "metadata": {},
   "source": [
    "## <span style=\"color:#484848;\"> 1.1. Subsection </span>\n",
    "\n",
    "_Write here or in a new cell_"
   ]
  },
  {
   "cell_type": "markdown",
   "id": "923b217f",
   "metadata": {},
   "source": [
    "# <span style=\"color:#00aba1;\"> 2. Hands On </span>"
   ]
  },
  {
   "cell_type": "markdown",
   "id": "92672c6a",
   "metadata": {},
   "source": [
    "## <span style=\"color:#484848;\"> 2.1. Do Something </span>"
   ]
  },
  {
   "cell_type": "code",
   "execution_count": 2,
   "id": "54277ce3",
   "metadata": {},
   "outputs": [],
   "source": [
    "# example of code cell"
   ]
  },
  {
   "cell_type": "markdown",
   "id": "ac6c8172",
   "metadata": {},
   "source": [
    "## <span style=\"color:#484848;\"> 2.2. Comment </span>"
   ]
  },
  {
   "cell_type": "markdown",
   "id": "79646329",
   "metadata": {},
   "source": [
    "_write your answer here_"
   ]
  },
  {
   "cell_type": "markdown",
   "id": "ce8fa2d6",
   "metadata": {},
   "source": [
    "# <span style=\"color:#00aba1;\"> 3. Explore </span>"
   ]
  },
  {
   "cell_type": "markdown",
   "id": "aa63b26d",
   "metadata": {},
   "source": [
    "## <span style=\"color:#484848;\"> 3.1. Quizz </span>\n",
    "_You can use this section to challenge your students to further apply the concepts learnt with this notebook_ "
   ]
  },
  {
   "cell_type": "markdown",
   "id": "92f3afdc",
   "metadata": {},
   "source": [
    "## <span style=\"color:#484848;\"> 3.2. Further Reading </span>\n",
    "* link\n",
    "\n",
    "* book\n",
    "\n",
    "* scientisst notebook\n",
    "\n",
    "* ..."
   ]
  },
  {
   "cell_type": "markdown",
   "id": "b4c52f8a",
   "metadata": {},
   "source": [
    "***"
   ]
  },
  {
   "cell_type": "markdown",
   "id": "13f4c736",
   "metadata": {},
   "source": [
    "![scientisst-notebooks_bottom-banner](https://raw.githubusercontent.com/scientisst/notebooks/master/_Resources/bottom-banner.png)"
   ]
  }
 ],
 "metadata": {
  "kernelspec": {
   "display_name": "Python 3 (ipykernel)",
   "language": "python",
   "name": "python3"
  },
  "language_info": {
   "codemirror_mode": {
    "name": "ipython",
    "version": 3
   },
   "file_extension": ".py",
   "mimetype": "text/x-python",
   "name": "python",
   "nbconvert_exporter": "python",
   "pygments_lexer": "ipython3",
   "version": "3.9.7"
  },
  "vscode": {
   "interpreter": {
    "hash": "7e1998ff7f8aa20ada591c520b972326324e5ea05489af9e422744c7c09f6dad"
   }
  }
 },
 "nbformat": 4,
 "nbformat_minor": 5
}
